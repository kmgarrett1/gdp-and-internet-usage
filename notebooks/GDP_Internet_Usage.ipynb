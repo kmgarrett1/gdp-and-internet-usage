{
 "cells": [
  {
   "cell_type": "markdown",
   "id": "03f993b2",
   "metadata": {},
   "source": [
    "Question 3"
   ]
  },
  {
   "cell_type": "code",
   "execution_count": 1,
   "id": "86e3c503",
   "metadata": {},
   "outputs": [],
   "source": [
    "import pandas as pd\n",
    "import numpy as np\n",
    "import matplotlib.pyplot as plt\n",
    "import seaborn as sns"
   ]
  },
  {
   "cell_type": "markdown",
   "id": "db3196d8",
   "metadata": {},
   "source": [
    "Question 4"
   ]
  },
  {
   "cell_type": "code",
   "execution_count": 2,
   "id": "42645b73",
   "metadata": {},
   "outputs": [],
   "source": [
    "%matplotlib inline"
   ]
  },
  {
   "cell_type": "markdown",
   "id": "2ac7c6f4",
   "metadata": {},
   "source": [
    "Question 5"
   ]
  },
  {
   "cell_type": "code",
   "execution_count": 3,
   "id": "b0da3a4d",
   "metadata": {},
   "outputs": [],
   "source": [
    "gdp_df = pd.read_csv('../data/gdp_percapita.csv')"
   ]
  },
  {
   "cell_type": "markdown",
   "id": "0728df0a",
   "metadata": {},
   "source": [
    "Question 5"
   ]
  },
  {
   "cell_type": "code",
   "execution_count": 4,
   "id": "bd8ee045",
   "metadata": {},
   "outputs": [
    {
     "data": {
      "text/html": [
       "<div>\n",
       "<style scoped>\n",
       "    .dataframe tbody tr th:only-of-type {\n",
       "        vertical-align: middle;\n",
       "    }\n",
       "\n",
       "    .dataframe tbody tr th {\n",
       "        vertical-align: top;\n",
       "    }\n",
       "\n",
       "    .dataframe thead th {\n",
       "        text-align: right;\n",
       "    }\n",
       "</style>\n",
       "<table border=\"1\" class=\"dataframe\">\n",
       "  <thead>\n",
       "    <tr style=\"text-align: right;\">\n",
       "      <th></th>\n",
       "      <th>Country or Area</th>\n",
       "      <th>Year</th>\n",
       "      <th>Value</th>\n",
       "      <th>Value Footnotes</th>\n",
       "    </tr>\n",
       "  </thead>\n",
       "  <tbody>\n",
       "    <tr>\n",
       "      <th>0</th>\n",
       "      <td>Afghanistan</td>\n",
       "      <td>2019</td>\n",
       "      <td>2065.036398</td>\n",
       "      <td>NaN</td>\n",
       "    </tr>\n",
       "    <tr>\n",
       "      <th>1</th>\n",
       "      <td>Afghanistan</td>\n",
       "      <td>2018</td>\n",
       "      <td>2033.779002</td>\n",
       "      <td>NaN</td>\n",
       "    </tr>\n",
       "    <tr>\n",
       "      <th>2</th>\n",
       "      <td>Afghanistan</td>\n",
       "      <td>2017</td>\n",
       "      <td>2058.383832</td>\n",
       "      <td>NaN</td>\n",
       "    </tr>\n",
       "    <tr>\n",
       "      <th>3</th>\n",
       "      <td>Afghanistan</td>\n",
       "      <td>2016</td>\n",
       "      <td>2057.062164</td>\n",
       "      <td>NaN</td>\n",
       "    </tr>\n",
       "    <tr>\n",
       "      <th>4</th>\n",
       "      <td>Afghanistan</td>\n",
       "      <td>2015</td>\n",
       "      <td>2068.265904</td>\n",
       "      <td>NaN</td>\n",
       "    </tr>\n",
       "    <tr>\n",
       "      <th>5</th>\n",
       "      <td>Afghanistan</td>\n",
       "      <td>2014</td>\n",
       "      <td>2102.385234</td>\n",
       "      <td>NaN</td>\n",
       "    </tr>\n",
       "  </tbody>\n",
       "</table>\n",
       "</div>"
      ],
      "text/plain": [
       "  Country or Area  Year        Value  Value Footnotes\n",
       "0     Afghanistan  2019  2065.036398              NaN\n",
       "1     Afghanistan  2018  2033.779002              NaN\n",
       "2     Afghanistan  2017  2058.383832              NaN\n",
       "3     Afghanistan  2016  2057.062164              NaN\n",
       "4     Afghanistan  2015  2068.265904              NaN\n",
       "5     Afghanistan  2014  2102.385234              NaN"
      ]
     },
     "execution_count": 4,
     "metadata": {},
     "output_type": "execute_result"
    }
   ],
   "source": [
    "gdp_df.head(6)"
   ]
  },
  {
   "cell_type": "markdown",
   "id": "a4db947c",
   "metadata": {},
   "source": [
    "Question 6"
   ]
  },
  {
   "cell_type": "code",
   "execution_count": 5,
   "id": "668b7ada",
   "metadata": {},
   "outputs": [],
   "source": [
    "internet_df = pd.read_csv('../data/internet_use.csv',nrows=4496)"
   ]
  },
  {
   "cell_type": "code",
   "execution_count": 6,
   "id": "c6dee9be",
   "metadata": {},
   "outputs": [
    {
     "data": {
      "text/html": [
       "<div>\n",
       "<style scoped>\n",
       "    .dataframe tbody tr th:only-of-type {\n",
       "        vertical-align: middle;\n",
       "    }\n",
       "\n",
       "    .dataframe tbody tr th {\n",
       "        vertical-align: top;\n",
       "    }\n",
       "\n",
       "    .dataframe thead th {\n",
       "        text-align: right;\n",
       "    }\n",
       "</style>\n",
       "<table border=\"1\" class=\"dataframe\">\n",
       "  <thead>\n",
       "    <tr style=\"text-align: right;\">\n",
       "      <th></th>\n",
       "      <th>Country or Area</th>\n",
       "      <th>Year</th>\n",
       "      <th>Value</th>\n",
       "      <th>Value Footnotes</th>\n",
       "    </tr>\n",
       "  </thead>\n",
       "  <tbody>\n",
       "    <tr>\n",
       "      <th>0</th>\n",
       "      <td>Afghanistan</td>\n",
       "      <td>2014</td>\n",
       "      <td>6.390000</td>\n",
       "      <td>NaN</td>\n",
       "    </tr>\n",
       "    <tr>\n",
       "      <th>1</th>\n",
       "      <td>Afghanistan</td>\n",
       "      <td>2013</td>\n",
       "      <td>5.900000</td>\n",
       "      <td>NaN</td>\n",
       "    </tr>\n",
       "    <tr>\n",
       "      <th>2</th>\n",
       "      <td>Afghanistan</td>\n",
       "      <td>2012</td>\n",
       "      <td>5.454545</td>\n",
       "      <td>NaN</td>\n",
       "    </tr>\n",
       "    <tr>\n",
       "      <th>3</th>\n",
       "      <td>Afghanistan</td>\n",
       "      <td>2011</td>\n",
       "      <td>5.000000</td>\n",
       "      <td>NaN</td>\n",
       "    </tr>\n",
       "    <tr>\n",
       "      <th>4</th>\n",
       "      <td>Afghanistan</td>\n",
       "      <td>2010</td>\n",
       "      <td>4.000000</td>\n",
       "      <td>NaN</td>\n",
       "    </tr>\n",
       "    <tr>\n",
       "      <th>5</th>\n",
       "      <td>Afghanistan</td>\n",
       "      <td>2009</td>\n",
       "      <td>3.550000</td>\n",
       "      <td>NaN</td>\n",
       "    </tr>\n",
       "  </tbody>\n",
       "</table>\n",
       "</div>"
      ],
      "text/plain": [
       "  Country or Area  Year     Value  Value Footnotes\n",
       "0     Afghanistan  2014  6.390000              NaN\n",
       "1     Afghanistan  2013  5.900000              NaN\n",
       "2     Afghanistan  2012  5.454545              NaN\n",
       "3     Afghanistan  2011  5.000000              NaN\n",
       "4     Afghanistan  2010  4.000000              NaN\n",
       "5     Afghanistan  2009  3.550000              NaN"
      ]
     },
     "execution_count": 6,
     "metadata": {},
     "output_type": "execute_result"
    }
   ],
   "source": [
    "internet_df.head(6)"
   ]
  },
  {
   "cell_type": "markdown",
   "id": "f53266d9",
   "metadata": {},
   "source": [
    "Question 7/8"
   ]
  },
  {
   "cell_type": "code",
   "execution_count": 7,
   "id": "55c426ce",
   "metadata": {},
   "outputs": [
    {
     "name": "stdout",
     "output_type": "stream",
     "text": [
      "<class 'pandas.core.frame.DataFrame'>\n",
      "RangeIndex: 6870 entries, 0 to 6869\n",
      "Data columns (total 4 columns):\n",
      " #   Column           Non-Null Count  Dtype  \n",
      "---  ------           --------------  -----  \n",
      " 0   Country or Area  6870 non-null   object \n",
      " 1   Year             6870 non-null   object \n",
      " 2   Value            6868 non-null   float64\n",
      " 3   Value Footnotes  1 non-null      float64\n",
      "dtypes: float64(2), object(2)\n",
      "memory usage: 214.8+ KB\n"
     ]
    }
   ],
   "source": [
    "gdp_df.info()"
   ]
  },
  {
   "cell_type": "markdown",
   "id": "75833c7b",
   "metadata": {},
   "source": [
    "4 columns, 6870 rows, objects and floats"
   ]
  },
  {
   "cell_type": "markdown",
   "id": "7d0522dc",
   "metadata": {},
   "source": [
    "Question 7/8"
   ]
  },
  {
   "cell_type": "code",
   "execution_count": 8,
   "id": "18f750a5",
   "metadata": {},
   "outputs": [
    {
     "name": "stdout",
     "output_type": "stream",
     "text": [
      "<class 'pandas.core.frame.DataFrame'>\n",
      "RangeIndex: 4496 entries, 0 to 4495\n",
      "Data columns (total 4 columns):\n",
      " #   Column           Non-Null Count  Dtype  \n",
      "---  ------           --------------  -----  \n",
      " 0   Country or Area  4496 non-null   object \n",
      " 1   Year             4496 non-null   object \n",
      " 2   Value            4495 non-null   float64\n",
      " 3   Value Footnotes  948 non-null    float64\n",
      "dtypes: float64(2), object(2)\n",
      "memory usage: 140.6+ KB\n"
     ]
    }
   ],
   "source": [
    "internet_df.info()"
   ]
  },
  {
   "cell_type": "markdown",
   "id": "e8d00129",
   "metadata": {},
   "source": [
    "4 columns, 4496 rows, objects and floats"
   ]
  },
  {
   "cell_type": "markdown",
   "id": "64f3b569",
   "metadata": {},
   "source": [
    "Question 9"
   ]
  },
  {
   "cell_type": "code",
   "execution_count": 9,
   "id": "a9536c29",
   "metadata": {},
   "outputs": [
    {
     "data": {
      "text/html": [
       "<div>\n",
       "<style scoped>\n",
       "    .dataframe tbody tr th:only-of-type {\n",
       "        vertical-align: middle;\n",
       "    }\n",
       "\n",
       "    .dataframe tbody tr th {\n",
       "        vertical-align: top;\n",
       "    }\n",
       "\n",
       "    .dataframe thead th {\n",
       "        text-align: right;\n",
       "    }\n",
       "</style>\n",
       "<table border=\"1\" class=\"dataframe\">\n",
       "  <thead>\n",
       "    <tr style=\"text-align: right;\">\n",
       "      <th></th>\n",
       "      <th>Country or Area</th>\n",
       "      <th>Year</th>\n",
       "      <th>Value</th>\n",
       "      <th>Value Footnotes</th>\n",
       "    </tr>\n",
       "  </thead>\n",
       "  <tbody>\n",
       "    <tr>\n",
       "      <th>6860</th>\n",
       "      <td>Zimbabwe</td>\n",
       "      <td>1997</td>\n",
       "      <td>3580.048793</td>\n",
       "      <td>NaN</td>\n",
       "    </tr>\n",
       "    <tr>\n",
       "      <th>6861</th>\n",
       "      <td>Zimbabwe</td>\n",
       "      <td>1996</td>\n",
       "      <td>3520.430146</td>\n",
       "      <td>NaN</td>\n",
       "    </tr>\n",
       "    <tr>\n",
       "      <th>6862</th>\n",
       "      <td>Zimbabwe</td>\n",
       "      <td>1995</td>\n",
       "      <td>3226.413930</td>\n",
       "      <td>NaN</td>\n",
       "    </tr>\n",
       "    <tr>\n",
       "      <th>6863</th>\n",
       "      <td>Zimbabwe</td>\n",
       "      <td>1994</td>\n",
       "      <td>3263.934978</td>\n",
       "      <td>NaN</td>\n",
       "    </tr>\n",
       "    <tr>\n",
       "      <th>6864</th>\n",
       "      <td>Zimbabwe</td>\n",
       "      <td>1993</td>\n",
       "      <td>3033.504852</td>\n",
       "      <td>NaN</td>\n",
       "    </tr>\n",
       "    <tr>\n",
       "      <th>6865</th>\n",
       "      <td>Zimbabwe</td>\n",
       "      <td>1992</td>\n",
       "      <td>3054.889178</td>\n",
       "      <td>NaN</td>\n",
       "    </tr>\n",
       "    <tr>\n",
       "      <th>6866</th>\n",
       "      <td>Zimbabwe</td>\n",
       "      <td>1991</td>\n",
       "      <td>3426.598094</td>\n",
       "      <td>NaN</td>\n",
       "    </tr>\n",
       "    <tr>\n",
       "      <th>6867</th>\n",
       "      <td>Zimbabwe</td>\n",
       "      <td>1990</td>\n",
       "      <td>3324.348171</td>\n",
       "      <td>NaN</td>\n",
       "    </tr>\n",
       "    <tr>\n",
       "      <th>6868</th>\n",
       "      <td>footnoteSeqID</td>\n",
       "      <td>Footnote</td>\n",
       "      <td>NaN</td>\n",
       "      <td>NaN</td>\n",
       "    </tr>\n",
       "    <tr>\n",
       "      <th>6869</th>\n",
       "      <td>2</td>\n",
       "      <td>Excludes South Sudan after July 9, 2011.</td>\n",
       "      <td>NaN</td>\n",
       "      <td>NaN</td>\n",
       "    </tr>\n",
       "  </tbody>\n",
       "</table>\n",
       "</div>"
      ],
      "text/plain": [
       "     Country or Area                                      Year        Value  \\\n",
       "6860        Zimbabwe                                      1997  3580.048793   \n",
       "6861        Zimbabwe                                      1996  3520.430146   \n",
       "6862        Zimbabwe                                      1995  3226.413930   \n",
       "6863        Zimbabwe                                      1994  3263.934978   \n",
       "6864        Zimbabwe                                      1993  3033.504852   \n",
       "6865        Zimbabwe                                      1992  3054.889178   \n",
       "6866        Zimbabwe                                      1991  3426.598094   \n",
       "6867        Zimbabwe                                      1990  3324.348171   \n",
       "6868   footnoteSeqID                                  Footnote          NaN   \n",
       "6869               2  Excludes South Sudan after July 9, 2011.          NaN   \n",
       "\n",
       "      Value Footnotes  \n",
       "6860              NaN  \n",
       "6861              NaN  \n",
       "6862              NaN  \n",
       "6863              NaN  \n",
       "6864              NaN  \n",
       "6865              NaN  \n",
       "6866              NaN  \n",
       "6867              NaN  \n",
       "6868              NaN  \n",
       "6869              NaN  "
      ]
     },
     "execution_count": 9,
     "metadata": {},
     "output_type": "execute_result"
    }
   ],
   "source": [
    "gdp_df.tail(10)"
   ]
  },
  {
   "cell_type": "code",
   "execution_count": 10,
   "id": "b297a0fd",
   "metadata": {},
   "outputs": [
    {
     "data": {
      "text/html": [
       "<div>\n",
       "<style scoped>\n",
       "    .dataframe tbody tr th:only-of-type {\n",
       "        vertical-align: middle;\n",
       "    }\n",
       "\n",
       "    .dataframe tbody tr th {\n",
       "        vertical-align: top;\n",
       "    }\n",
       "\n",
       "    .dataframe thead th {\n",
       "        text-align: right;\n",
       "    }\n",
       "</style>\n",
       "<table border=\"1\" class=\"dataframe\">\n",
       "  <thead>\n",
       "    <tr style=\"text-align: right;\">\n",
       "      <th></th>\n",
       "      <th>Country or Area</th>\n",
       "      <th>Year</th>\n",
       "      <th>Value</th>\n",
       "      <th>Value Footnotes</th>\n",
       "    </tr>\n",
       "  </thead>\n",
       "  <tbody>\n",
       "    <tr>\n",
       "      <th>4486</th>\n",
       "      <td>Zimbabwe</td>\n",
       "      <td>2001</td>\n",
       "      <td>0.799846</td>\n",
       "      <td>NaN</td>\n",
       "    </tr>\n",
       "    <tr>\n",
       "      <th>4487</th>\n",
       "      <td>Zimbabwe</td>\n",
       "      <td>2000</td>\n",
       "      <td>0.401434</td>\n",
       "      <td>NaN</td>\n",
       "    </tr>\n",
       "    <tr>\n",
       "      <th>4488</th>\n",
       "      <td>Zimbabwe</td>\n",
       "      <td>1999</td>\n",
       "      <td>0.161676</td>\n",
       "      <td>NaN</td>\n",
       "    </tr>\n",
       "    <tr>\n",
       "      <th>4489</th>\n",
       "      <td>Zimbabwe</td>\n",
       "      <td>1998</td>\n",
       "      <td>0.081648</td>\n",
       "      <td>NaN</td>\n",
       "    </tr>\n",
       "    <tr>\n",
       "      <th>4490</th>\n",
       "      <td>Zimbabwe</td>\n",
       "      <td>1997</td>\n",
       "      <td>0.033080</td>\n",
       "      <td>NaN</td>\n",
       "    </tr>\n",
       "    <tr>\n",
       "      <th>4491</th>\n",
       "      <td>Zimbabwe</td>\n",
       "      <td>1996</td>\n",
       "      <td>0.016790</td>\n",
       "      <td>NaN</td>\n",
       "    </tr>\n",
       "    <tr>\n",
       "      <th>4492</th>\n",
       "      <td>Zimbabwe</td>\n",
       "      <td>1995</td>\n",
       "      <td>0.007684</td>\n",
       "      <td>NaN</td>\n",
       "    </tr>\n",
       "    <tr>\n",
       "      <th>4493</th>\n",
       "      <td>Zimbabwe</td>\n",
       "      <td>1994</td>\n",
       "      <td>0.001739</td>\n",
       "      <td>NaN</td>\n",
       "    </tr>\n",
       "    <tr>\n",
       "      <th>4494</th>\n",
       "      <td>Zimbabwe</td>\n",
       "      <td>1990</td>\n",
       "      <td>0.000000</td>\n",
       "      <td>NaN</td>\n",
       "    </tr>\n",
       "    <tr>\n",
       "      <th>4495</th>\n",
       "      <td>footnoteSeqID</td>\n",
       "      <td>Footnote</td>\n",
       "      <td>NaN</td>\n",
       "      <td>NaN</td>\n",
       "    </tr>\n",
       "  </tbody>\n",
       "</table>\n",
       "</div>"
      ],
      "text/plain": [
       "     Country or Area      Year     Value  Value Footnotes\n",
       "4486        Zimbabwe      2001  0.799846              NaN\n",
       "4487        Zimbabwe      2000  0.401434              NaN\n",
       "4488        Zimbabwe      1999  0.161676              NaN\n",
       "4489        Zimbabwe      1998  0.081648              NaN\n",
       "4490        Zimbabwe      1997  0.033080              NaN\n",
       "4491        Zimbabwe      1996  0.016790              NaN\n",
       "4492        Zimbabwe      1995  0.007684              NaN\n",
       "4493        Zimbabwe      1994  0.001739              NaN\n",
       "4494        Zimbabwe      1990  0.000000              NaN\n",
       "4495   footnoteSeqID  Footnote       NaN              NaN"
      ]
     },
     "execution_count": 10,
     "metadata": {},
     "output_type": "execute_result"
    }
   ],
   "source": [
    "internet_df.tail(10)"
   ]
  },
  {
   "cell_type": "markdown",
   "id": "c349ed4a",
   "metadata": {},
   "source": [
    "Question 10"
   ]
  },
  {
   "cell_type": "code",
   "execution_count": 11,
   "id": "d49d6853",
   "metadata": {},
   "outputs": [],
   "source": [
    "gdp_df = gdp_df.drop(columns=['Value Footnotes'])"
   ]
  },
  {
   "cell_type": "code",
   "execution_count": 12,
   "id": "0bae0211",
   "metadata": {},
   "outputs": [
    {
     "name": "stdout",
     "output_type": "stream",
     "text": [
      "<class 'pandas.core.frame.DataFrame'>\n",
      "RangeIndex: 6870 entries, 0 to 6869\n",
      "Data columns (total 3 columns):\n",
      " #   Column           Non-Null Count  Dtype  \n",
      "---  ------           --------------  -----  \n",
      " 0   Country or Area  6870 non-null   object \n",
      " 1   Year             6870 non-null   object \n",
      " 2   Value            6868 non-null   float64\n",
      "dtypes: float64(1), object(2)\n",
      "memory usage: 161.1+ KB\n"
     ]
    }
   ],
   "source": [
    "gdp_df.info()"
   ]
  },
  {
   "cell_type": "code",
   "execution_count": 13,
   "id": "a7fc4cb1",
   "metadata": {},
   "outputs": [],
   "source": [
    "internet_df = internet_df.drop(columns=['Value Footnotes'])"
   ]
  },
  {
   "cell_type": "code",
   "execution_count": 14,
   "id": "a01b1936",
   "metadata": {},
   "outputs": [
    {
     "name": "stdout",
     "output_type": "stream",
     "text": [
      "<class 'pandas.core.frame.DataFrame'>\n",
      "RangeIndex: 4496 entries, 0 to 4495\n",
      "Data columns (total 3 columns):\n",
      " #   Column           Non-Null Count  Dtype  \n",
      "---  ------           --------------  -----  \n",
      " 0   Country or Area  4496 non-null   object \n",
      " 1   Year             4496 non-null   object \n",
      " 2   Value            4495 non-null   float64\n",
      "dtypes: float64(1), object(2)\n",
      "memory usage: 105.5+ KB\n"
     ]
    }
   ],
   "source": [
    "internet_df.info()"
   ]
  },
  {
   "cell_type": "markdown",
   "id": "fe06c4cb",
   "metadata": {},
   "source": [
    "Question 11"
   ]
  },
  {
   "cell_type": "code",
   "execution_count": 52,
   "id": "f78c4cd2",
   "metadata": {},
   "outputs": [],
   "source": [
    "gdp_df = gdp_df.rename(columns={'Country or Area': 'Country', 'Value': 'GDP_Per_Capita'})"
   ]
  },
  {
   "cell_type": "code",
   "execution_count": 53,
   "id": "876c3f10",
   "metadata": {},
   "outputs": [
    {
     "name": "stdout",
     "output_type": "stream",
     "text": [
      "<class 'pandas.core.frame.DataFrame'>\n",
      "RangeIndex: 6870 entries, 0 to 6869\n",
      "Data columns (total 3 columns):\n",
      " #   Column          Non-Null Count  Dtype  \n",
      "---  ------          --------------  -----  \n",
      " 0   Country         6870 non-null   object \n",
      " 1   Year            6870 non-null   object \n",
      " 2   GDP_Per_Capita  6868 non-null   float64\n",
      "dtypes: float64(1), object(2)\n",
      "memory usage: 161.1+ KB\n"
     ]
    }
   ],
   "source": [
    "gdp_df.info()"
   ]
  },
  {
   "cell_type": "markdown",
   "id": "44bacddd",
   "metadata": {},
   "source": [
    "Question 12"
   ]
  },
  {
   "cell_type": "code",
   "execution_count": 54,
   "id": "e426c843",
   "metadata": {},
   "outputs": [],
   "source": [
    "internet_df = internet_df.rename(columns={'Country or Area': 'Country', 'Value': 'Internet_Users_Pct'})"
   ]
  },
  {
   "cell_type": "code",
   "execution_count": 51,
   "id": "fd294269",
   "metadata": {},
   "outputs": [
    {
     "name": "stdout",
     "output_type": "stream",
     "text": [
      "<class 'pandas.core.frame.DataFrame'>\n",
      "RangeIndex: 4496 entries, 0 to 4495\n",
      "Data columns (total 3 columns):\n",
      " #   Column              Non-Null Count  Dtype  \n",
      "---  ------              --------------  -----  \n",
      " 0   Country             4496 non-null   object \n",
      " 1   Year                4496 non-null   object \n",
      " 2   Internet_Users_Pct  4495 non-null   float64\n",
      "dtypes: float64(1), object(2)\n",
      "memory usage: 105.5+ KB\n"
     ]
    }
   ],
   "source": [
    "internet_df.info()"
   ]
  },
  {
   "cell_type": "markdown",
   "id": "c5b77cf0",
   "metadata": {},
   "source": [
    "Question 13 - With help from Abi to specify outer merge"
   ]
  },
  {
   "cell_type": "code",
   "execution_count": 56,
   "id": "2826a36f",
   "metadata": {},
   "outputs": [],
   "source": [
    "gdp_and_internet_use = pd.merge(gdp_df, internet_df, on=['Country', 'Year'], how ='outer')"
   ]
  },
  {
   "cell_type": "code",
   "execution_count": 57,
   "id": "baec6f1f",
   "metadata": {},
   "outputs": [
    {
     "name": "stdout",
     "output_type": "stream",
     "text": [
      "<class 'pandas.core.frame.DataFrame'>\n",
      "Int64Index: 7907 entries, 0 to 7906\n",
      "Data columns (total 4 columns):\n",
      " #   Column              Non-Null Count  Dtype  \n",
      "---  ------              --------------  -----  \n",
      " 0   Country             7907 non-null   object \n",
      " 1   Year                7907 non-null   object \n",
      " 2   GDP_Per_Capita      6868 non-null   float64\n",
      " 3   Internet_Users_Pct  4495 non-null   float64\n",
      "dtypes: float64(2), object(2)\n",
      "memory usage: 308.9+ KB\n",
      "None\n"
     ]
    }
   ],
   "source": [
    "print(gdp_and_internet_use.info())"
   ]
  },
  {
   "cell_type": "markdown",
   "id": "ad1e954c",
   "metadata": {},
   "source": [
    "Question 14"
   ]
  },
  {
   "cell_type": "code",
   "execution_count": 20,
   "id": "d157bcf2",
   "metadata": {},
   "outputs": [
    {
     "name": "stdout",
     "output_type": "stream",
     "text": [
      "<class 'pandas.core.frame.DataFrame'>\n",
      "Int64Index: 7907 entries, 0 to 7906\n",
      "Data columns (total 4 columns):\n",
      " #   Column              Non-Null Count  Dtype  \n",
      "---  ------              --------------  -----  \n",
      " 0   Country             7907 non-null   object \n",
      " 1   Year                7907 non-null   object \n",
      " 2   GDP_Per_Capita      6868 non-null   float64\n",
      " 3   Internet_Users_Pct  4495 non-null   float64\n",
      "dtypes: float64(2), object(2)\n",
      "memory usage: 308.9+ KB\n"
     ]
    }
   ],
   "source": [
    "gdp_and_internet_use.info()"
   ]
  },
  {
   "cell_type": "code",
   "execution_count": 21,
   "id": "242a2fb6",
   "metadata": {},
   "outputs": [
    {
     "data": {
      "text/html": [
       "<div>\n",
       "<style scoped>\n",
       "    .dataframe tbody tr th:only-of-type {\n",
       "        vertical-align: middle;\n",
       "    }\n",
       "\n",
       "    .dataframe tbody tr th {\n",
       "        vertical-align: top;\n",
       "    }\n",
       "\n",
       "    .dataframe thead th {\n",
       "        text-align: right;\n",
       "    }\n",
       "</style>\n",
       "<table border=\"1\" class=\"dataframe\">\n",
       "  <thead>\n",
       "    <tr style=\"text-align: right;\">\n",
       "      <th></th>\n",
       "      <th>Country</th>\n",
       "      <th>Year</th>\n",
       "      <th>GDP_Per_Capita</th>\n",
       "      <th>Internet_Users_Pct</th>\n",
       "    </tr>\n",
       "  </thead>\n",
       "  <tbody>\n",
       "    <tr>\n",
       "      <th>0</th>\n",
       "      <td>Afghanistan</td>\n",
       "      <td>2019</td>\n",
       "      <td>2065.036398</td>\n",
       "      <td>NaN</td>\n",
       "    </tr>\n",
       "    <tr>\n",
       "      <th>1</th>\n",
       "      <td>Afghanistan</td>\n",
       "      <td>2018</td>\n",
       "      <td>2033.779002</td>\n",
       "      <td>NaN</td>\n",
       "    </tr>\n",
       "    <tr>\n",
       "      <th>2</th>\n",
       "      <td>Afghanistan</td>\n",
       "      <td>2017</td>\n",
       "      <td>2058.383832</td>\n",
       "      <td>NaN</td>\n",
       "    </tr>\n",
       "    <tr>\n",
       "      <th>3</th>\n",
       "      <td>Afghanistan</td>\n",
       "      <td>2016</td>\n",
       "      <td>2057.062164</td>\n",
       "      <td>NaN</td>\n",
       "    </tr>\n",
       "    <tr>\n",
       "      <th>4</th>\n",
       "      <td>Afghanistan</td>\n",
       "      <td>2015</td>\n",
       "      <td>2068.265904</td>\n",
       "      <td>NaN</td>\n",
       "    </tr>\n",
       "  </tbody>\n",
       "</table>\n",
       "</div>"
      ],
      "text/plain": [
       "       Country  Year  GDP_Per_Capita  Internet_Users_Pct\n",
       "0  Afghanistan  2019     2065.036398                 NaN\n",
       "1  Afghanistan  2018     2033.779002                 NaN\n",
       "2  Afghanistan  2017     2058.383832                 NaN\n",
       "3  Afghanistan  2016     2057.062164                 NaN\n",
       "4  Afghanistan  2015     2068.265904                 NaN"
      ]
     },
     "execution_count": 21,
     "metadata": {},
     "output_type": "execute_result"
    }
   ],
   "source": [
    "gdp_and_internet_use.head()"
   ]
  },
  {
   "cell_type": "markdown",
   "id": "118257fa",
   "metadata": {},
   "source": [
    "Question 15"
   ]
  },
  {
   "cell_type": "code",
   "execution_count": 22,
   "id": "083abad2",
   "metadata": {},
   "outputs": [
    {
     "data": {
      "text/html": [
       "<div>\n",
       "<style scoped>\n",
       "    .dataframe tbody tr th:only-of-type {\n",
       "        vertical-align: middle;\n",
       "    }\n",
       "\n",
       "    .dataframe tbody tr th {\n",
       "        vertical-align: top;\n",
       "    }\n",
       "\n",
       "    .dataframe thead th {\n",
       "        text-align: right;\n",
       "    }\n",
       "</style>\n",
       "<table border=\"1\" class=\"dataframe\">\n",
       "  <thead>\n",
       "    <tr style=\"text-align: right;\">\n",
       "      <th></th>\n",
       "      <th>Country</th>\n",
       "      <th>Year</th>\n",
       "      <th>GDP_Per_Capita</th>\n",
       "      <th>Internet_Users_Pct</th>\n",
       "    </tr>\n",
       "  </thead>\n",
       "  <tbody>\n",
       "    <tr>\n",
       "      <th>7902</th>\n",
       "      <td>Yemen</td>\n",
       "      <td>1999</td>\n",
       "      <td>NaN</td>\n",
       "      <td>0.056629</td>\n",
       "    </tr>\n",
       "    <tr>\n",
       "      <th>7903</th>\n",
       "      <td>Yemen</td>\n",
       "      <td>1998</td>\n",
       "      <td>NaN</td>\n",
       "      <td>0.023323</td>\n",
       "    </tr>\n",
       "    <tr>\n",
       "      <th>7904</th>\n",
       "      <td>Yemen</td>\n",
       "      <td>1997</td>\n",
       "      <td>NaN</td>\n",
       "      <td>0.015025</td>\n",
       "    </tr>\n",
       "    <tr>\n",
       "      <th>7905</th>\n",
       "      <td>Yemen</td>\n",
       "      <td>1996</td>\n",
       "      <td>NaN</td>\n",
       "      <td>0.000621</td>\n",
       "    </tr>\n",
       "    <tr>\n",
       "      <th>7906</th>\n",
       "      <td>Yemen</td>\n",
       "      <td>1990</td>\n",
       "      <td>NaN</td>\n",
       "      <td>0.000000</td>\n",
       "    </tr>\n",
       "  </tbody>\n",
       "</table>\n",
       "</div>"
      ],
      "text/plain": [
       "     Country  Year  GDP_Per_Capita  Internet_Users_Pct\n",
       "7902   Yemen  1999             NaN            0.056629\n",
       "7903   Yemen  1998             NaN            0.023323\n",
       "7904   Yemen  1997             NaN            0.015025\n",
       "7905   Yemen  1996             NaN            0.000621\n",
       "7906   Yemen  1990             NaN            0.000000"
      ]
     },
     "execution_count": 22,
     "metadata": {},
     "output_type": "execute_result"
    }
   ],
   "source": [
    "gdp_and_internet_use.tail(5)"
   ]
  },
  {
   "cell_type": "markdown",
   "id": "a16f9a76",
   "metadata": {},
   "source": [
    "Question 16"
   ]
  },
  {
   "cell_type": "code",
   "execution_count": 23,
   "id": "0c1345be",
   "metadata": {},
   "outputs": [
    {
     "name": "stdout",
     "output_type": "stream",
     "text": [
      "                    Country  Year  GDP_Per_Capita  Internet_Users_Pct\n",
      "5               Afghanistan  2014     2102.385234            6.390000\n",
      "10              Afghanistan  2009     1758.904043            3.550000\n",
      "15              Afghanistan  2004     1200.278256            0.105809\n",
      "23                  Albania  2014    11623.866679           60.100000\n",
      "28                  Albania  2009    10346.864199           41.200000\n",
      "...                     ...   ...             ...                 ...\n",
      "7870  Virgin Islands (U.S.)  2009             NaN           27.396510\n",
      "7875  Virgin Islands (U.S.)  2004             NaN           27.377009\n",
      "7887                  Yemen  2014             NaN           22.550000\n",
      "7892                  Yemen  2009             NaN            9.960000\n",
      "7897                  Yemen  2004             NaN            0.881223\n",
      "\n",
      "[830 rows x 4 columns]\n"
     ]
    }
   ],
   "source": [
    "years = gdp_and_internet_use[gdp_and_internet_use['Year'].isin(['2004', '2009', '2014'])]\n",
    "print(years)"
   ]
  },
  {
   "cell_type": "markdown",
   "id": "ef31938a",
   "metadata": {},
   "source": [
    "Question 17"
   ]
  },
  {
   "cell_type": "code",
   "execution_count": 24,
   "id": "b5d33b86",
   "metadata": {},
   "outputs": [
    {
     "name": "stdout",
     "output_type": "stream",
     "text": [
      "                 Country  Year  GDP_Per_Capita  Internet_Users_Pct\n",
      "15           Afghanistan  2004     1200.278256            0.105809\n",
      "33               Albania  2004     7604.838002            2.420388\n",
      "63               Algeria  2004    10058.435939            4.634475\n",
      "93                Angola  2004     5593.241537            0.464815\n",
      "123  Antigua and Barbuda  2004    18745.681534           24.266544\n",
      "                 Country  Year  GDP_Per_Capita  Internet_Users_Pct\n",
      "10           Afghanistan  2009     1758.904043                3.55\n",
      "28               Albania  2009    10346.864199               41.20\n",
      "58               Algeria  2009    10782.361398               11.23\n",
      "88                Angola  2009     7643.493749                6.00\n",
      "118  Antigua and Barbuda  2009    20046.839017               42.00\n",
      "                 Country  Year  GDP_Per_Capita  Internet_Users_Pct\n",
      "5            Afghanistan  2014     2102.385234                6.39\n",
      "23               Albania  2014    11623.866679               60.10\n",
      "53               Algeria  2014    11512.705405               18.09\n",
      "83                Angola  2014     8239.828837               21.26\n",
      "113  Antigua and Barbuda  2014    18104.241470               64.00\n"
     ]
    }
   ],
   "source": [
    "year_2004 = years[years['Year'].isin(['2004'])]\n",
    "year_2009 = years[years['Year'].isin(['2009'])]\n",
    "year_2014 = years[years['Year'].isin(['2014'])]\n",
    "print(year_2004.head())\n",
    "print(year_2009.head())\n",
    "print(year_2014.head())"
   ]
  },
  {
   "cell_type": "markdown",
   "id": "70c1993e",
   "metadata": {},
   "source": [
    "Question 18"
   ]
  },
  {
   "cell_type": "code",
   "execution_count": 65,
   "id": "cdfb4ac1",
   "metadata": {},
   "outputs": [
    {
     "name": "stdout",
     "output_type": "stream",
     "text": [
      "      Country  Year  GDP_Per_Capita  Internet_Users_Pct\n",
      "2625  Iceland  2014      49652.1495               98.16\n"
     ]
    }
   ],
   "source": [
    "print(year_2014.nlargest(n=1, columns=['Internet_Users_Pct']))"
   ]
  },
  {
   "cell_type": "markdown",
   "id": "6e49ba1a",
   "metadata": {},
   "source": [
    "Question 19"
   ]
  },
  {
   "cell_type": "code",
   "execution_count": 67,
   "id": "72ce2a40",
   "metadata": {},
   "outputs": [
    {
     "name": "stdout",
     "output_type": "stream",
     "text": [
      "                          Country  Year  GDP_Per_Capita  Internet_Users_Pct\n",
      "7081  Dem. People's Rep. of Korea  2014             NaN                 0.0\n"
     ]
    }
   ],
   "source": [
    "print(year_2014.nsmallest(n=1, columns=['Internet_Users_Pct']))"
   ]
  },
  {
   "cell_type": "markdown",
   "id": "3a87848f",
   "metadata": {},
   "source": [
    "Question 20"
   ]
  },
  {
   "cell_type": "code",
   "execution_count": 66,
   "id": "874bde9b",
   "metadata": {},
   "outputs": [
    {
     "name": "stdout",
     "output_type": "stream",
     "text": [
      "     Country  Year  GDP_Per_Capita  Internet_Users_Pct\n",
      "6019  Sweden  2004    44496.023401               83.89\n"
     ]
    }
   ],
   "source": [
    "print(year_2004.nlargest(n=1, columns=['Internet_Users_Pct']))"
   ]
  },
  {
   "cell_type": "code",
   "execution_count": 68,
   "id": "afb056b0",
   "metadata": {},
   "outputs": [
    {
     "name": "stdout",
     "output_type": "stream",
     "text": [
      "                          Country  Year  GDP_Per_Capita  Internet_Users_Pct\n",
      "7090  Dem. People's Rep. of Korea  2004             NaN                 0.0\n"
     ]
    }
   ],
   "source": [
    "print(year_2004.nsmallest(n=1, columns=['Internet_Users_Pct']))"
   ]
  },
  {
   "cell_type": "code",
   "execution_count": 70,
   "id": "08c8fbc0",
   "metadata": {},
   "outputs": [
    {
     "name": "stdout",
     "output_type": "stream",
     "text": [
      "      Country  Year  GDP_Per_Capita  Internet_Users_Pct\n",
      "2630  Iceland  2009    48177.084123                93.0\n"
     ]
    }
   ],
   "source": [
    "print(year_2009.nlargest(n=1, columns=['Internet_Users_Pct']))"
   ]
  },
  {
   "cell_type": "code",
   "execution_count": 71,
   "id": "3e7a08b0",
   "metadata": {},
   "outputs": [
    {
     "name": "stdout",
     "output_type": "stream",
     "text": [
      "                          Country  Year  GDP_Per_Capita  Internet_Users_Pct\n",
      "7085  Dem. People's Rep. of Korea  2009             NaN                 0.0\n"
     ]
    }
   ],
   "source": [
    "print(year_2009.nsmallest(n=1, columns=['Internet_Users_Pct']))"
   ]
  },
  {
   "cell_type": "markdown",
   "id": "e3f98ded",
   "metadata": {},
   "source": [
    "Question 21"
   ]
  },
  {
   "cell_type": "code",
   "execution_count": 72,
   "id": "38d9dbcd",
   "metadata": {},
   "outputs": [
    {
     "name": "stdout",
     "output_type": "stream",
     "text": [
      "               Country  Year  GDP_Per_Capita  Internet_Users_Pct\n",
      "3721  Macao SAR, China  2014    156514.13385                 NaN\n"
     ]
    }
   ],
   "source": [
    "print(year_2014.nlargest(n=1, columns=['GDP_Per_Capita']))"
   ]
  },
  {
   "cell_type": "markdown",
   "id": "a31cac1e",
   "metadata": {},
   "source": [
    "Question 22"
   ]
  },
  {
   "cell_type": "code",
   "execution_count": 73,
   "id": "a29762ed",
   "metadata": {},
   "outputs": [
    {
     "name": "stdout",
     "output_type": "stream",
     "text": [
      "                       Country  Year  GDP_Per_Capita  Internet_Users_Pct\n",
      "1047  Central African Republic  2014      822.610458                 NaN\n"
     ]
    }
   ],
   "source": [
    "print(year_2014.nsmallest(n=1, columns=['GDP_Per_Capita']))"
   ]
  },
  {
   "cell_type": "markdown",
   "id": "5ff7f182",
   "metadata": {},
   "source": [
    "Question 23"
   ]
  },
  {
   "cell_type": "code",
   "execution_count": 75,
   "id": "7f8c542c",
   "metadata": {},
   "outputs": [
    {
     "data": {
      "image/png": "[encoded data removed]",
      "text/plain": [
       "<Figure size 432x288 with 1 Axes>"
      ]
     },
     "metadata": {
      "needs_background": "light"
     },
     "output_type": "display_data"
    }
   ],
   "source": [
    "plt.scatter(year_2004.GDP_Per_Capita, year_2004.Internet_Users_Pct)\n",
    "plt.ylabel('Using the Internet')\n",
    "plt.xlabel('GDP Per Capita')\n",
    "plt.show()"
   ]
  },
  {
   "cell_type": "code",
   "execution_count": 76,
   "id": "4ce3f121",
   "metadata": {},
   "outputs": [
    {
     "data": {
      "image/png": "[encoded data removed]",
      "text/plain": [
       "<Figure size 432x288 with 1 Axes>"
      ]
     },
     "metadata": {
      "needs_background": "light"
     },
     "output_type": "display_data"
    }
   ],
   "source": [
    "plt.scatter(year_2009.GDP_Per_Capita, year_2009.Internet_Users_Pct)\n",
    "plt.ylabel('Using the Internet')\n",
    "plt.xlabel('GDP Per Capita')\n",
    "plt.show()"
   ]
  },
  {
   "cell_type": "code",
   "execution_count": 77,
   "id": "3f017755",
   "metadata": {},
   "outputs": [
    {
     "data": {
      "image/png": "[encoded data removed]",
      "text/plain": [
       "<Figure size 432x288 with 1 Axes>"
      ]
     },
     "metadata": {
      "needs_background": "light"
     },
     "output_type": "display_data"
    }
   ],
   "source": [
    "plt.scatter(year_2014.GDP_Per_Capita, year_2014.Internet_Users_Pct)\n",
    "plt.ylabel('Using the Internet')\n",
    "plt.xlabel('GDP Per Capita')\n",
    "plt.show()"
   ]
  },
  {
   "cell_type": "markdown",
   "id": "73feeef8",
   "metadata": {},
   "source": [
    "Question 24"
   ]
  },
  {
   "cell_type": "markdown",
   "id": "b45da023",
   "metadata": {},
   "source": [
    "Internet access has increased over time. The higher the GDP, the higher the percentage of people with access to internet. Countries with low GDP have low internet access."
   ]
  },
  {
   "cell_type": "markdown",
   "id": "37a859e7",
   "metadata": {},
   "source": [
    "Question 25"
   ]
  },
  {
   "cell_type": "code",
   "execution_count": 79,
   "id": "d7a85577",
   "metadata": {},
   "outputs": [
    {
     "data": {
      "image/png": "[encoded data removed]",
      "text/plain": [
       "<Figure size 432x288 with 1 Axes>"
      ]
     },
     "metadata": {
      "needs_background": "light"
     },
     "output_type": "display_data"
    }
   ],
   "source": [
    "plt.hist(year_2014.GDP_Per_Capita)\n",
    "plt.show()"
   ]
  },
  {
   "cell_type": "markdown",
   "id": "f0b352b6",
   "metadata": {},
   "source": [
    "Is it unimodal? Yes"
   ]
  },
  {
   "cell_type": "markdown",
   "id": "e8453fb7",
   "metadata": {},
   "source": [
    "Question 26"
   ]
  },
  {
   "cell_type": "code",
   "execution_count": 37,
   "id": "0eaa94b3",
   "metadata": {},
   "outputs": [
    {
     "data": {
      "image/png": "[encoded data removed]",
      "text/plain": [
       "<Figure size 432x288 with 1 Axes>"
      ]
     },
     "metadata": {
      "needs_background": "light"
     },
     "output_type": "display_data"
    }
   ],
   "source": [
    "plt.hist(year_2014.Internet_Users_Pct)\n",
    "plt.show()"
   ]
  },
  {
   "cell_type": "markdown",
   "id": "ba10972a",
   "metadata": {},
   "source": [
    "Is it unimodal? No"
   ]
  },
  {
   "cell_type": "markdown",
   "id": "5f70fb5f",
   "metadata": {},
   "source": [
    "Question 27"
   ]
  },
  {
   "cell_type": "code",
   "execution_count": 38,
   "id": "9e548d6f",
   "metadata": {},
   "outputs": [
    {
     "name": "stdout",
     "output_type": "stream",
     "text": [
      "      Country  Year  GDP_Per_Capita  Internet_Users_Pct\n",
      "2625  Iceland  2014    49652.149500               98.16\n",
      "561   Bermuda  2014    77361.104881               96.80\n",
      "4648   Norway  2014    62589.373548               96.30\n",
      "1452  Denmark  2014    52214.537753               95.99\n",
      "6873  Andorra  2014             NaN               95.90\n"
     ]
    }
   ],
   "source": [
    "top_2014 = year_2014.nlargest(5, 'Internet_Users_Pct')\n",
    "print(top_2014)"
   ]
  },
  {
   "cell_type": "markdown",
   "id": "6cff1b2e",
   "metadata": {},
   "source": [
    "Question 28"
   ]
  },
  {
   "cell_type": "code",
   "execution_count": 39,
   "id": "f5ce17fd",
   "metadata": {},
   "outputs": [
    {
     "name": "stdout",
     "output_type": "stream",
     "text": [
      "      Country  Year  GDP_Per_Capita  Internet_Users_Pct\n",
      "561   Bermuda  2014    77361.104881           96.800000\n",
      "566   Bermuda  2009    89961.982744           83.250000\n",
      "571   Bermuda  2004    90195.811033           60.990867\n",
      "1452  Denmark  2014    52214.537753           95.990000\n",
      "1457  Denmark  2009    50274.075696           86.840000\n",
      "1462  Denmark  2004    50607.628971           80.930000\n",
      "2625  Iceland  2014    49652.149500           98.160000\n",
      "2630  Iceland  2009    48177.084123           93.000000\n",
      "2635  Iceland  2004    45145.545658           83.880000\n",
      "4648   Norway  2014    62589.373548           96.300000\n",
      "4653   Norway  2009    61886.564498           92.080000\n",
      "4658   Norway  2004    60893.410993           77.690000\n",
      "6873  Andorra  2014             NaN           95.900000\n",
      "6878  Andorra  2009             NaN           78.530000\n",
      "6883  Andorra  2004             NaN           26.837954\n"
     ]
    }
   ],
   "source": [
    "top_5_internet = years[years['Country'].isin(top_2014['Country'])]\n",
    "print(top_5_internet)"
   ]
  },
  {
   "cell_type": "markdown",
   "id": "170a66c0",
   "metadata": {},
   "source": [
    "Question 29 - FacetGrid shoutout to Phil, especially that reverse"
   ]
  },
  {
   "cell_type": "code",
   "execution_count": 40,
   "id": "73d064c2",
   "metadata": {},
   "outputs": [
    {
     "data": {
      "image/png": "[encoded data removed]",
      "text/plain": [
       "<Figure size 216x216 with 1 Axes>"
      ]
     },
     "metadata": {
      "needs_background": "light"
     },
     "output_type": "display_data"
    }
   ],
   "source": [
    "g = sns.FacetGrid(top_5_internet, hue='Country')\n",
    "g = g.map_dataframe(sns.lineplot,'Year','Internet_Users_Pct')\n",
    "plt.xlim(reversed(plt.xlim()))\n",
    "plt.legend(fontsize=8)\n",
    "plt.show()"
   ]
  },
  {
   "cell_type": "markdown",
   "id": "0793eca9",
   "metadata": {},
   "source": [
    "Greatest Growth Between 2004 and 2014: Andorra"
   ]
  },
  {
   "cell_type": "markdown",
   "id": "76603617",
   "metadata": {},
   "source": [
    "Alternate 29:"
   ]
  },
  {
   "cell_type": "code",
   "execution_count": 82,
   "id": "2ef6e0d6",
   "metadata": {},
   "outputs": [
    {
     "data": {
      "image/png": "[encoded data removed]",
      "text/plain": [
       "<Figure size 1080x216 with 5 Axes>"
      ]
     },
     "metadata": {
      "needs_background": "light"
     },
     "output_type": "display_data"
    }
   ],
   "source": [
    "g = sns.FacetGrid(top_5_internet, col = 'Country')\n",
    "g = g.map(sns.lineplot, 'Year', 'Internet_Users_Pct')\n",
    "plt.xlim(reversed(plt.xlim()))\n",
    "plt.show()"
   ]
  },
  {
   "cell_type": "markdown",
   "id": "bf440acc",
   "metadata": {},
   "source": [
    "Question 30"
   ]
  },
  {
   "cell_type": "code",
   "execution_count": 41,
   "id": "c812a845",
   "metadata": {},
   "outputs": [
    {
     "name": "stdout",
     "output_type": "stream",
     "text": [
      "                          Country  Year  GDP_Per_Capita  Internet_Users_Pct\n",
      "7081  Dem. People's Rep. of Korea  2014             NaN                0.00\n",
      "7139                      Eritrea  2014             NaN                0.99\n",
      "6219                  Timor-Leste  2014     3264.568070                1.14\n",
      "827                       Burundi  2014      886.235777                1.38\n",
      "7676                      Somalia  2014             NaN                1.63\n"
     ]
    }
   ],
   "source": [
    "bottom_2014 = year_2014.nsmallest(5, 'Internet_Users_Pct')\n",
    "print(bottom_2014)"
   ]
  },
  {
   "cell_type": "code",
   "execution_count": 42,
   "id": "2ed956b9",
   "metadata": {},
   "outputs": [
    {
     "name": "stdout",
     "output_type": "stream",
     "text": [
      "                          Country  Year  GDP_Per_Capita  Internet_Users_Pct\n",
      "827                       Burundi  2014      886.235777            1.380000\n",
      "832                       Burundi  2009      831.564131            0.900000\n",
      "837                       Burundi  2004      817.460585            0.349060\n",
      "6219                  Timor-Leste  2014     3264.568070            1.140000\n",
      "6224                  Timor-Leste  2009     2724.770973            0.185252\n",
      "6229                  Timor-Leste  2004     2258.608056                 NaN\n",
      "7081  Dem. People's Rep. of Korea  2014             NaN            0.000000\n",
      "7085  Dem. People's Rep. of Korea  2009             NaN            0.000000\n",
      "7090  Dem. People's Rep. of Korea  2004             NaN            0.000000\n",
      "7139                      Eritrea  2014             NaN            0.990000\n",
      "7144                      Eritrea  2009             NaN            0.540000\n",
      "7676                      Somalia  2014             NaN            1.630000\n",
      "7680                      Somalia  2009             NaN            1.160611\n",
      "7685                      Somalia  2004             NaN            1.053455\n"
     ]
    }
   ],
   "source": [
    "bottom_5_internet = years[years['Country'].isin(bottom_2014['Country'])]\n",
    "print(bottom_5_internet)"
   ]
  },
  {
   "cell_type": "code",
   "execution_count": 43,
   "id": "9f6af89f",
   "metadata": {},
   "outputs": [
    {
     "data": {
      "image/png": "[encoded data removed]",
      "text/plain": [
       "<Figure size 216x216 with 1 Axes>"
      ]
     },
     "metadata": {
      "needs_background": "light"
     },
     "output_type": "display_data"
    }
   ],
   "source": [
    "g = sns.FacetGrid(bottom_5_internet, hue='Country')\n",
    "g.map_dataframe(sns.lineplot,'Year','Internet_Users_Pct')\n",
    "plt.xlim(reversed(plt.xlim()))\n",
    "plt.legend(fontsize=7)\n",
    "plt.show()"
   ]
  },
  {
   "cell_type": "markdown",
   "id": "60b1a232",
   "metadata": {},
   "source": [
    "Least Internet Use: Dem. People's Rep of Korea"
   ]
  },
  {
   "cell_type": "markdown",
   "id": "9be9c221",
   "metadata": {},
   "source": [
    "Question 31"
   ]
  },
  {
   "cell_type": "code",
   "execution_count": 44,
   "id": "d83539ba",
   "metadata": {},
   "outputs": [
    {
     "name": "stdout",
     "output_type": "stream",
     "text": [
      "               Country  Year  GDP_Per_Capita  Internet_Users_Pct\n",
      "3721  Macao SAR, China  2014   156514.133850                 NaN\n",
      "3691        Luxembourg  2014   108760.916030               94.67\n",
      "5138             Qatar  2014    95578.416973               91.49\n",
      "5464         Singapore  2014    87808.663157               82.00\n",
      "561            Bermuda  2014    77361.104881               96.80\n"
     ]
    }
   ],
   "source": [
    "top_2014_GDP = year_2014.nlargest(5, 'GDP_Per_Capita')\n",
    "print(top_2014_GDP)"
   ]
  },
  {
   "cell_type": "code",
   "execution_count": 45,
   "id": "3e7d5939",
   "metadata": {},
   "outputs": [
    {
     "name": "stdout",
     "output_type": "stream",
     "text": [
      "               Country  Year  GDP_Per_Capita  Internet_Users_Pct\n",
      "561            Bermuda  2014    77361.104881           96.800000\n",
      "566            Bermuda  2009    89961.982744           83.250000\n",
      "571            Bermuda  2004    90195.811033           60.990867\n",
      "3691        Luxembourg  2014   108760.916030           94.670000\n",
      "3696        Luxembourg  2009   104932.811953           87.310000\n",
      "3701        Luxembourg  2004   102708.212547           65.880000\n",
      "3721  Macao SAR, China  2014   156514.133850                 NaN\n",
      "3726  Macao SAR, China  2009    95939.340822                 NaN\n",
      "3731  Macao SAR, China  2004    72944.409424                 NaN\n",
      "5138             Qatar  2014    95578.416973           91.490000\n",
      "5143             Qatar  2009    89954.519993           53.100000\n",
      "5148             Qatar  2004    93748.301216           20.701648\n",
      "5464         Singapore  2014    87808.663157           82.000000\n",
      "5469         Singapore  2009    69466.581746           69.000000\n",
      "5474         Singapore  2004    63901.716368           62.000000\n"
     ]
    }
   ],
   "source": [
    "top_5_GDP = years[years['Country'].isin(top_2014_GDP['Country'])]\n",
    "print(top_5_GDP)"
   ]
  },
  {
   "cell_type": "code",
   "execution_count": 46,
   "id": "df53ae87",
   "metadata": {},
   "outputs": [
    {
     "data": {
      "image/png": "[encoded data removed]",
      "text/plain": [
       "<Figure size 216x216 with 1 Axes>"
      ]
     },
     "metadata": {
      "needs_background": "light"
     },
     "output_type": "display_data"
    }
   ],
   "source": [
    "g = sns.FacetGrid(top_5_GDP, hue='Country')\n",
    "g.map_dataframe(sns.lineplot,'Year','GDP_Per_Capita')\n",
    "plt.xlim(reversed(plt.xlim()))\n",
    "plt.legend(fontsize=7)\n",
    "plt.show()"
   ]
  },
  {
   "cell_type": "markdown",
   "id": "c4a614d8",
   "metadata": {},
   "source": [
    "Question 32"
   ]
  },
  {
   "cell_type": "code",
   "execution_count": 47,
   "id": "c43dd8d4",
   "metadata": {},
   "outputs": [
    {
     "name": "stdout",
     "output_type": "stream",
     "text": [
      "                       Country  Year  GDP_Per_Capita  Internet_Users_Pct\n",
      "1047  Central African Republic  2014      822.610458                 NaN\n",
      "827                    Burundi  2014      886.235777                1.38\n",
      "3781                    Malawi  2014     1027.208496                5.83\n",
      "1422           Dem. Rep. Congo  2014     1029.790785                 NaN\n",
      "4528                     Niger  2014     1127.615541                1.95\n"
     ]
    }
   ],
   "source": [
    "bottom_2014 = year_2014.nsmallest(5, 'GDP_Per_Capita')\n",
    "print(bottom_2014)"
   ]
  },
  {
   "cell_type": "code",
   "execution_count": 48,
   "id": "44b5b3e2",
   "metadata": {},
   "outputs": [
    {
     "name": "stdout",
     "output_type": "stream",
     "text": [
      "                       Country  Year  GDP_Per_Capita  Internet_Users_Pct\n",
      "827                    Burundi  2014      886.235777            1.380000\n",
      "832                    Burundi  2009      831.564131            0.900000\n",
      "837                    Burundi  2004      817.460585            0.349060\n",
      "1047  Central African Republic  2014      822.610458                 NaN\n",
      "1052  Central African Republic  2009     1161.189475                 NaN\n",
      "1057  Central African Republic  2004     1037.846766                 NaN\n",
      "1422           Dem. Rep. Congo  2014     1029.790785                 NaN\n",
      "1427           Dem. Rep. Congo  2009      835.611696                 NaN\n",
      "1432           Dem. Rep. Congo  2004      757.685942                 NaN\n",
      "3781                    Malawi  2014     1027.208496            5.830000\n",
      "3786                    Malawi  2009      932.867635            1.070000\n",
      "3791                    Malawi  2004      775.346132            0.347505\n",
      "4528                     Niger  2014     1127.615541            1.950000\n",
      "4533                     Niger  2009      992.409977            0.760000\n",
      "4538                     Niger  2004      929.883920            0.189934\n"
     ]
    }
   ],
   "source": [
    "bottom_5_GDP = years[years['Country'].isin(bottom_2014['Country'])]\n",
    "print(bottom_5_GDP)"
   ]
  },
  {
   "cell_type": "code",
   "execution_count": 49,
   "id": "5addba45",
   "metadata": {},
   "outputs": [
    {
     "data": {
      "image/png": "[encoded data removed]",
      "text/plain": [
       "<Figure size 216x216 with 1 Axes>"
      ]
     },
     "metadata": {
      "needs_background": "light"
     },
     "output_type": "display_data"
    }
   ],
   "source": [
    "g = sns.FacetGrid(bottom_5_GDP, hue='Country')\n",
    "g.map_dataframe(sns.lineplot,'Year','GDP_Per_Capita')\n",
    "plt.xlim(reversed(plt.xlim()))\n",
    "plt.legend(fontsize=7)\n",
    "plt.show()"
   ]
  },
  {
   "cell_type": "markdown",
   "id": "285d006a",
   "metadata": {},
   "source": [
    "Question 33"
   ]
  },
  {
   "cell_type": "markdown",
   "id": "ae98d582",
   "metadata": {},
   "source": [
    "Suprising or Unusual - Central African Republic went down over time\n",
    "\n",
    "Possible Reason: Their civil war"
   ]
  }
 ],
 "metadata": {
  "kernelspec": {
   "display_name": "Python 3 (ipykernel)",
   "language": "python",
   "name": "python3"
  },
  "language_info": {
   "codemirror_mode": {
    "name": "ipython",
    "version": 3
   },
   "file_extension": ".py",
   "mimetype": "text/x-python",
   "name": "python",
   "nbconvert_exporter": "python",
   "pygments_lexer": "ipython3",
   "version": "3.9.7"
  }
 },
 "nbformat": 4,
 "nbformat_minor": 5
}
